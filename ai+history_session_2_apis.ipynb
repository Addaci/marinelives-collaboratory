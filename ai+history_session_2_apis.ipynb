{
  "nbformat": 4,
  "nbformat_minor": 0,
  "metadata": {
    "colab": {
      "provenance": [],
      "authorship_tag": "ABX9TyOEz39/WiQAKSaC3k6fhV12",
      "include_colab_link": true
    },
    "kernelspec": {
      "name": "python3",
      "display_name": "Python 3"
    },
    "language_info": {
      "name": "python"
    }
  },
  "cells": [
    {
      "cell_type": "markdown",
      "metadata": {
        "id": "view-in-github",
        "colab_type": "text"
      },
      "source": [
        "<a href=\"https://colab.research.google.com/github/Addaci/marinelives-collaboratory/blob/main/ai%2Bhistory_session_2_apis.ipynb\" target=\"_parent\"><img src=\"https://colab.research.google.com/assets/colab-badge.svg\" alt=\"Open In Colab\"/></a>"
      ]
    },
    {
      "cell_type": "code",
      "execution_count": null,
      "metadata": {
        "id": "utij-4Ex3cPh"
      },
      "outputs": [],
      "source": []
    },
    {
      "cell_type": "markdown",
      "source": [
        "**This Google Colab Notebook has been created by Colin Greenstreet on Monday, December 2nd, 2024 to support session two of the ai + history collaboratory**\n",
        "\n",
        "\n",
        "\n",
        "---\n",
        "\n"
      ],
      "metadata": {
        "id": "dzQOeAyY3oN2"
      }
    },
    {
      "cell_type": "markdown",
      "source": [
        "**AGENDA FOR OUR SECOND SESSION**\n",
        "\n",
        "**1. What is an API?**\n",
        "\n",
        "**2. Introducting Google's Colab Notebook**\n",
        "\n",
        "**3. Example: The UK National Archives's Discovery API**\n",
        "\n",
        "   Geolocating and mapping metadata downloaded from the Discovery API\n",
        "\n",
        "**4. Example: The Anthropic API**\n",
        "\n",
        "   Obtaining an API and inserting it into a Google Colab notebook\n",
        "\n",
        "   Running code for a prompt in a Google Colab notebook to perform a series of historical research functions\n",
        "\n",
        "**5. Use case: Using an API to process and interrogate American Presidential rhetoric**\n",
        "\n",
        "**6. Use case: Using an API to process and interrogate English High Court of Admiralty depositions**\n",
        "\n",
        "**7. Discussion of use cases that other collaboratory members have, which may be suited to batch processing using the Anthropic API**\n",
        "\n",
        "\n",
        "---\n",
        "\n"
      ],
      "metadata": {
        "id": "qEGQMZDB4K1d"
      }
    },
    {
      "cell_type": "markdown",
      "source": [
        "**1. What is an API?**\n",
        "\n",
        "`PLACE HOLDER`\n",
        "\n",
        "---\n",
        "\n"
      ],
      "metadata": {
        "id": "BckMBG-k7evx"
      }
    },
    {
      "cell_type": "markdown",
      "source": [
        "**2. What is Colab?** Google Colab, short for \"Collaboratory,\" is an online tool from Google that lets you write and run Python code right in your web browser. It’s great for projects like data analysis, creating visualizations, and working with machine learning and artificial intelligence. One of its best features is that it gives you free access to powerful computing resources like GPUs, which are often needed for more demanding tasks. Colab is easy to use and works like a digital notebook where you can write code, add explanations, and see your results all in one place. It’s connected to Google Drive, so you can save your work and share it with others, making it perfect for teamwork and learning.\n",
        "\n",
        "**Getting started with Colab:** As a non-coder, getting started with Google Colab is straightforward and doesn't require any prior programming experience. Here's how you can begin:\n",
        "\n",
        "1. Access Google Colab: [Visit Google Colab in your web browser](https://colab.google/). You'll need to sign in with your Google account.\n",
        "\n",
        "2. Create a New Notebook: Once signed in, click on \"File\" in the top-left corner, then select \"New notebook.\" This will open a new document where you can write and run code. The default name of the document is Untitled0.ipynb, which you can easily change. When you create your own Colab notebooks, they are stored in your Google Drive account.\n",
        "\n",
        "3. Explore the Interface: Familiarize yourself with the notebook interface. Each \"cell\" can contain code or text. To run a code cell, click the play button next to it or press Shift + Enter.\n",
        "\n",
        "4. Learn Basic Python Concepts: Google Colab provides an [introductory notebook](https://colab.research.google.com/notebooks/intro.ipynb) that covers the basics of Python programming and how to use Colab effectively. This resource is designed for beginners and is a great starting point.\n",
        "\n",
        "5. Practice with Examples: Try out simple Python exercises to build your confidence. For instance, you can write a cell with the following code to print a message:\n",
        "\n",
        "> python\n",
        "\n",
        "> Copy code\n",
        "\n",
        "> print(\"Hello, Colab!\")\n",
        "\n",
        "6. Useful resources:\n",
        "\n",
        "[Colab Notebook: Overview of Colaboratory Features](https://colab.research.google.com/notebooks/basic_features_overview.ipynb#scrollTo=JyG45Qk3qQLS)\n",
        "\n",
        "\n",
        "---\n",
        "\n"
      ],
      "metadata": {
        "id": "bjGFUuy69X3f"
      }
    },
    {
      "cell_type": "markdown",
      "source": [
        "**3. Example: The UK National Archives's Discovery API**\n",
        "\n",
        "**What is it?** The UK National Archives (TNA) API provides programmatic access to metadata and digital resources from the UK National Archives. It allows users to explore historical records, archival descriptions, and government documents preserved in the UK.\n",
        "\n",
        "**What can it be used for?**\n",
        "\n",
        "`Search and Retrieval:` Query metadata about archival records by reference number, keywords, or topics.\n",
        "\n",
        "`Integration:` Embed archival data into educational or research platforms.\n",
        "\n",
        "`Metadata Analysis:` Automate analysis of archival descriptions and linked datasets.\n",
        "\n",
        "`Digital Access:` Retrieve links to digitized records, where available.\n",
        "\n",
        "**Technical description**\n",
        "\n",
        "A RESTful API\n",
        "\n",
        "The Discovery API allows developers to programmatically query the [Discovery](https://https://discovery.nationalarchives.gov.uk/) service's search engine and database, returning results in XML or JSON formats for further processing. This enables access to over 32 million record descriptions held by The National Archives and more than 2,500 other archives and institutions across the UK.\n",
        "\n",
        "Please note that the API is offered as a beta service, with some functionality still under development.\n",
        "\n",
        "[Discovery API Help Page](https://https://discovery.nationalarchives.gov.uk/API/sandbox/index)\n",
        "\n",
        "**How can it be accessed from a Colab notebook?**\n",
        "\n",
        "[ADD TEXT AND LINK TO COLAB NOTEBOOK]\n",
        "\n",
        "\n",
        "---\n",
        "\n"
      ],
      "metadata": {
        "id": "Ey7Jow0Z7zfp"
      }
    },
    {
      "cell_type": "markdown",
      "source": [
        "**4. Example: The Anthropic API**\n",
        "\n",
        "**4.1 Obtaining an API and inserting it into a Google Colab notebook**\n",
        "\n",
        "Open the Anthropic Workbench and go to the ai-and-history-collaboratory workspace\n",
        "\n",
        "In the left hand column click on 'API keys'\n",
        "\n",
        "Click the button in the top right hand side 'Create API key'\n",
        "\n",
        "Name your key 'api-practice-key', ensuring that there are no capitals\n",
        "\n",
        "Copy the value of the api-key and go to the ai+history-session-2-apis.ipynb notebook\n",
        "\n",
        "Click on the KEY icon in the far left handside of the notebook\n",
        "\n",
        "Add 'api-practice-key' to the secret names and paste the value of the key into the appropriate box\n",
        "\n",
        "Close the secrets sidebar\n",
        "\n",
        "Your Anthropic API key is now named and its name and value is stored in your Colab Bote book secretes. Listing your anthropic key (the name, not the value) in python code in your Colab notebook enables you to execute prompts using Claude 3.5 via the Anthropic API from your Colab notebook\n",
        "\n",
        "**4.2 Running code for a prompt in a Google Colab notebook to perform a series of historical research functions**\n",
        "\n",
        "Click run on the cell immediately below this text box to ask a question of Claude Sonnet 3.5\n",
        "\n",
        "The code cell is set up to ask history_question = \"What were the main causes of World War I?\"\n",
        "\n",
        "Click '+Code' and copy and paste the existing code cell into a new code cell.\n",
        "\n",
        "Then alter the history question\n",
        "\n",
        "Experiment\n",
        "\n",
        "\n",
        "---\n",
        "\n"
      ],
      "metadata": {
        "id": "--Cmikmm7-Ig"
      }
    },
    {
      "cell_type": "code",
      "source": [
        "# Introduction to Claude 3.5 Sonnet API\n",
        "# Prerequisites: An Anthropic API key is required\n",
        "\n",
        "# First, install the Anthropic Python library\n",
        "!pip install anthropic\n",
        "\n",
        "# Import required libraries\n",
        "import anthropic\n",
        "import os\n",
        "from google.colab import userdata\n",
        "\n",
        "# Set up your API key securely\n",
        "# Note: Store your API key in Colab's secrets manager\n",
        "api_key = userdata.get('api-practice-key')  # Students should add their key in Colab's secrets\n",
        "client = anthropic.Anthropic(api_key=api_key)  # Changed from anthropic.Client to anthropic.Anthropic\n",
        "\n",
        "# Basic example: Asking Claude a history question\n",
        "def ask_claude(question):\n",
        "    \"\"\"\n",
        "    Function to send a question to Claude and get a response\n",
        "\n",
        "    Args:\n",
        "        question (str): The question to ask Claude\n",
        "\n",
        "    Returns:\n",
        "        str: Claude's response\n",
        "    \"\"\"\n",
        "    message = client.messages.create(\n",
        "        model=\"claude-3-5-sonnet-20241022\",\n",
        "        max_tokens=1000,\n",
        "        messages=[\n",
        "            {\n",
        "                \"role\": \"user\",\n",
        "                \"content\": question\n",
        "            }\n",
        "        ]\n",
        "    )\n",
        "    return message.content[0].text\n",
        "\n",
        "# Example usage\n",
        "history_question = \"What were the main causes of World War I?\"\n",
        "response = ask_claude(history_question)\n",
        "print(response)\n",
        "\n",
        "# Exercise for students:\n",
        "# 1. Try asking different history questions\n",
        "# 2. Modify the function to include system prompts\n",
        "# 3. Experiment with different parameters like max_tokens"
      ],
      "metadata": {
        "colab": {
          "base_uri": "https://localhost:8080/"
        },
        "id": "A36VcV7EHAUk",
        "outputId": "cb60a40a-1b87-4aaf-a44f-05373015a8fc"
      },
      "execution_count": 7,
      "outputs": [
        {
          "output_type": "stream",
          "name": "stdout",
          "text": [
            "Requirement already satisfied: anthropic in /usr/local/lib/python3.10/dist-packages (0.40.0)\n",
            "Requirement already satisfied: anyio<5,>=3.5.0 in /usr/local/lib/python3.10/dist-packages (from anthropic) (3.7.1)\n",
            "Requirement already satisfied: distro<2,>=1.7.0 in /usr/local/lib/python3.10/dist-packages (from anthropic) (1.9.0)\n",
            "Requirement already satisfied: httpx<1,>=0.23.0 in /usr/local/lib/python3.10/dist-packages (from anthropic) (0.27.2)\n",
            "Requirement already satisfied: jiter<1,>=0.4.0 in /usr/local/lib/python3.10/dist-packages (from anthropic) (0.7.1)\n",
            "Requirement already satisfied: pydantic<3,>=1.9.0 in /usr/local/lib/python3.10/dist-packages (from anthropic) (2.9.2)\n",
            "Requirement already satisfied: sniffio in /usr/local/lib/python3.10/dist-packages (from anthropic) (1.3.1)\n",
            "Requirement already satisfied: typing-extensions<5,>=4.7 in /usr/local/lib/python3.10/dist-packages (from anthropic) (4.12.2)\n",
            "Requirement already satisfied: idna>=2.8 in /usr/local/lib/python3.10/dist-packages (from anyio<5,>=3.5.0->anthropic) (3.10)\n",
            "Requirement already satisfied: exceptiongroup in /usr/local/lib/python3.10/dist-packages (from anyio<5,>=3.5.0->anthropic) (1.2.2)\n",
            "Requirement already satisfied: certifi in /usr/local/lib/python3.10/dist-packages (from httpx<1,>=0.23.0->anthropic) (2024.8.30)\n",
            "Requirement already satisfied: httpcore==1.* in /usr/local/lib/python3.10/dist-packages (from httpx<1,>=0.23.0->anthropic) (1.0.7)\n",
            "Requirement already satisfied: h11<0.15,>=0.13 in /usr/local/lib/python3.10/dist-packages (from httpcore==1.*->httpx<1,>=0.23.0->anthropic) (0.14.0)\n",
            "Requirement already satisfied: annotated-types>=0.6.0 in /usr/local/lib/python3.10/dist-packages (from pydantic<3,>=1.9.0->anthropic) (0.7.0)\n",
            "Requirement already satisfied: pydantic-core==2.23.4 in /usr/local/lib/python3.10/dist-packages (from pydantic<3,>=1.9.0->anthropic) (2.23.4)\n",
            "The main causes of World War I can be summarized by the acronym MAIN:\n",
            "\n",
            "1. Militarism\n",
            "- Arms race between European powers\n",
            "- Rapid military buildup, especially naval competition between Britain and Germany\n",
            "\n",
            "2. Alliances\n",
            "- Triple Alliance (Germany, Austria-Hungary, Italy)\n",
            "- Triple Entente (Britain, France, Russia)\n",
            "- These alliances created a complex web of obligations\n",
            "\n",
            "3. Imperialism\n",
            "- Competition for colonies and resources\n",
            "- Tensions between European powers over territorial expansion\n",
            "- Conflicts in Africa and Asia\n",
            "\n",
            "4. Nationalism\n",
            "- Growing nationalist movements\n",
            "- Ethnic tensions in the Balkans\n",
            "- Pan-Slavic movement and Russian support for Serbia\n",
            "\n",
            "The immediate trigger was the assassination of Archduke Franz Ferdinand (heir to the Austro-Hungarian throne) in Sarajevo by Serbian nationalist Gavrilo Princip in June 1914. This event set off a chain reaction of diplomatic crises and military mobilizations due to the alliance systems, ultimately leading to war.\n",
            "\n",
            "Other contributing factors included:\n",
            "- Austro-Hungarian annexation of Bosnia and Herzegovina\n",
            "- Previous regional conflicts (Balkan Wars)\n",
            "- Economic rivalries\n",
            "- Social and political instability in various European nations\n"
          ]
        }
      ]
    },
    {
      "cell_type": "markdown",
      "source": [
        "**5. Use case: Using an API to process and interrogate American Presidential rhetoric**\n",
        "\n",
        "`PLACE HOLDER`\n",
        "\n",
        "\n",
        "---\n",
        "\n"
      ],
      "metadata": {
        "id": "ttL241BW8b9A"
      }
    },
    {
      "cell_type": "markdown",
      "source": [
        "**6. Use case: Using an API to process and interrogate English High Court of Admiralty depositions**\n",
        "\n",
        "`PLACE HOLDER`\n",
        "\n",
        "\n",
        "---\n",
        "\n"
      ],
      "metadata": {
        "id": "aMiNnse98qR3"
      }
    },
    {
      "cell_type": "markdown",
      "source": [
        "**7. Discussion of use cases that other collaboratory members have, which may be suited to batch processing using the Anthropic API**\n",
        "\n",
        "`PLACE HOLDER`\n",
        "\n",
        "\n",
        "---\n",
        "\n"
      ],
      "metadata": {
        "id": "UGNelTv480VA"
      }
    }
  ]
}